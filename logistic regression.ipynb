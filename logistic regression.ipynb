{
 "cells": [
  {
   "cell_type": "code",
   "execution_count": 1,
   "metadata": {},
   "outputs": [
    {
     "name": "stdout",
     "output_type": "stream",
     "text": [
      "Libraries imported successfully!\n"
     ]
    }
   ],
   "source": [
    "# Import necessary libraries\n",
    "import pandas as pd\n",
    "import numpy as np\n",
    "from sklearn.model_selection import train_test_split\n",
    "from sklearn.linear_model import LogisticRegression\n",
    "from sklearn.metrics import (confusion_matrix, accuracy_score, precision_score, \n",
    "                           recall_score, f1_score, classification_report)\n",
    "from sklearn.preprocessing import StandardScaler\n",
    "import matplotlib.pyplot as plt\n",
    "import seaborn as sns\n",
    "import warnings\n",
    "warnings.filterwarnings('ignore')\n",
    "\n",
    "print(\"Libraries imported successfully!\")"
   ]
  },
  {
   "cell_type": "code",
   "execution_count": 2,
   "metadata": {},
   "outputs": [
    {
     "name": "stdout",
     "output_type": "stream",
     "text": [
      "Loading datasets...\n",
      "Training data shape: (1240596, 42)\n",
      "Test data shape: (311614, 42)\n",
      "\n",
      "--- Training Data Info ---\n",
      "      HR  O2Sat   Temp    SBP     MAP   DBP  Resp  EtCO2  BaseExcess  HCO3  \\\n",
      "0   97.0   95.0  36.11   98.0  75.330  62.0  19.0   33.0       -10.0  28.0   \n",
      "1   97.0   95.0  36.11   98.0  75.330  62.0  19.0   33.0        21.0  26.0   \n",
      "2   89.0   99.0  36.11  122.0  86.000  62.0  22.0   33.0        15.0  19.0   \n",
      "3   90.0   95.0  36.11  122.0  88.665  62.0  30.0   33.0        24.0  43.0   \n",
      "4  103.0   88.5  36.11  122.0  91.330  62.0  24.5   33.0        19.0  28.0   \n",
      "\n",
      "   ...  Fibrinogen  Platelets    Age  Gender  Unit1  Unit2  HospAdmTime  \\\n",
      "0  ...       152.0      153.0  83.14       0    1.0    1.0        -0.03   \n",
      "1  ...       229.0      241.0  83.14       0    1.0    1.0        -0.03   \n",
      "2  ...       651.0      140.0  83.14       0    1.0    1.0        -0.03   \n",
      "3  ...       342.0      270.0  83.14       0    1.0    0.0        -0.03   \n",
      "4  ...       434.0      373.0  83.14       0    1.0    0.0        -0.03   \n",
      "\n",
      "   ICULOS  SepsisLabel  PatientID  \n",
      "0       1            0    p000001  \n",
      "1       2            0    p000001  \n",
      "2       3            0    p000001  \n",
      "3       4            0    p000001  \n",
      "4       5            0    p000001  \n",
      "\n",
      "[5 rows x 42 columns]\n",
      "\n",
      "Target variable distribution in training data:\n",
      "SepsisLabel\n",
      "0    1218233\n",
      "1      22363\n",
      "Name: count, dtype: int64\n",
      "Sepsis rate: 0.0180\n",
      "\n",
      "--- Test Data Info ---\n",
      "Target variable distribution in test data:\n",
      "SepsisLabel\n",
      "0    306061\n",
      "1      5553\n",
      "Name: count, dtype: int64\n",
      "Sepsis rate: 0.0178\n"
     ]
    }
   ],
   "source": [
    "# Load the datasets\n",
    "print(\"Loading datasets...\")\n",
    "train_data = pd.read_csv('physionet_train_fully_imputed.csv')\n",
    "test_data = pd.read_csv('physionet_test_fully_imputed.csv')\n",
    "\n",
    "print(f\"Training data shape: {train_data.shape}\")\n",
    "print(f\"Test data shape: {test_data.shape}\")\n",
    "\n",
    "# Display basic information about the datasets\n",
    "print(\"\\n--- Training Data Info ---\")\n",
    "print(train_data.head())\n",
    "print(f\"\\nTarget variable distribution in training data:\")\n",
    "print(train_data['SepsisLabel'].value_counts())\n",
    "print(f\"Sepsis rate: {train_data['SepsisLabel'].mean():.4f}\")\n",
    "\n",
    "print(\"\\n--- Test Data Info ---\")\n",
    "print(f\"Target variable distribution in test data:\")\n",
    "print(test_data['SepsisLabel'].value_counts())\n",
    "print(f\"Sepsis rate: {test_data['SepsisLabel'].mean():.4f}\")"
   ]
  },
  {
   "cell_type": "code",
   "execution_count": 3,
   "metadata": {},
   "outputs": [
    {
     "name": "stdout",
     "output_type": "stream",
     "text": [
      "Number of features: 40\n",
      "Training samples: 1240596\n",
      "Test samples: 311614\n",
      "\n",
      "Feature columns: ['HR', 'O2Sat', 'Temp', 'SBP', 'MAP', 'DBP', 'Resp', 'EtCO2', 'BaseExcess', 'HCO3', 'FiO2', 'pH', 'PaCO2', 'SaO2', 'AST', 'BUN', 'Alkalinephos', 'Calcium', 'Chloride', 'Creatinine', 'Bilirubin_direct', 'Glucose', 'Lactate', 'Magnesium', 'Phosphate', 'Potassium', 'Bilirubin_total', 'TroponinI', 'Hct', 'Hgb', 'PTT', 'WBC', 'Fibrinogen', 'Platelets', 'Age', 'Gender', 'Unit1', 'Unit2', 'HospAdmTime', 'ICULOS']\n"
     ]
    }
   ],
   "source": [
    "# Prepare features and target variables\n",
    "# Remove non-feature columns (PatientID is identifier, SepsisLabel is target)\n",
    "feature_columns = [col for col in train_data.columns if col not in ['SepsisLabel', 'PatientID']]\n",
    "\n",
    "# Separate features and target for training data\n",
    "X_train = train_data[feature_columns]\n",
    "y_train = train_data['SepsisLabel']\n",
    "\n",
    "# Separate features and target for test data\n",
    "X_test = test_data[feature_columns]\n",
    "y_test = test_data['SepsisLabel']\n",
    "\n",
    "print(f\"Number of features: {len(feature_columns)}\")\n",
    "print(f\"Training samples: {X_train.shape[0]}\")\n",
    "print(f\"Test samples: {X_test.shape[0]}\")\n",
    "print(f\"\\nFeature columns: {feature_columns}\")"
   ]
  },
  {
   "cell_type": "code",
   "execution_count": 4,
   "metadata": {},
   "outputs": [
    {
     "name": "stdout",
     "output_type": "stream",
     "text": [
      "Features scaled successfully!\n",
      "Scaled training data shape: (1240596, 40)\n",
      "Scaled test data shape: (311614, 40)\n"
     ]
    }
   ],
   "source": [
    "# Scale the features for better logistic regression performance\n",
    "scaler = StandardScaler()\n",
    "X_train_scaled = scaler.fit_transform(X_train)\n",
    "X_test_scaled = scaler.transform(X_test)\n",
    "\n",
    "print(\"Features scaled successfully!\")\n",
    "print(f\"Scaled training data shape: {X_train_scaled.shape}\")\n",
    "print(f\"Scaled test data shape: {X_test_scaled.shape}\")"
   ]
  },
  {
   "cell_type": "code",
   "execution_count": 5,
   "metadata": {},
   "outputs": [
    {
     "name": "stdout",
     "output_type": "stream",
     "text": [
      "Training Logistic Regression model...\n",
      "Model training completed!\n",
      "Model coefficients shape: (1, 40)\n",
      "Model intercept: -4.2875\n"
     ]
    }
   ],
   "source": [
    "# Initialize and train the logistic regression model\n",
    "print(\"Training Logistic Regression model...\")\n",
    "lr_model = LogisticRegression(\n",
    "    random_state=42,\n",
    "    max_iter=1000,\n",
    "    solver='liblinear'  # Good for smaller datasets\n",
    ")\n",
    "\n",
    "# Fit the model\n",
    "lr_model.fit(X_train_scaled, y_train)\n",
    "\n",
    "print(\"Model training completed!\")\n",
    "print(f\"Model coefficients shape: {lr_model.coef_.shape}\")\n",
    "print(f\"Model intercept: {lr_model.intercept_[0]:.4f}\")"
   ]
  },
  {
   "cell_type": "code",
   "execution_count": 6,
   "metadata": {},
   "outputs": [
    {
     "name": "stdout",
     "output_type": "stream",
     "text": [
      "Predictions completed!\n",
      "Predicted positive cases: 16\n",
      "Actual positive cases: 5553\n"
     ]
    }
   ],
   "source": [
    "# Make predictions on test data\n",
    "y_pred = lr_model.predict(X_test_scaled)\n",
    "y_pred_proba = lr_model.predict_proba(X_test_scaled)[:, 1]  # Probability of positive class\n",
    "\n",
    "print(\"Predictions completed!\")\n",
    "print(f\"Predicted positive cases: {sum(y_pred)}\")\n",
    "print(f\"Actual positive cases: {sum(y_test)}\")"
   ]
  },
  {
   "cell_type": "code",
   "execution_count": 11,
   "metadata": {},
   "outputs": [
    {
     "name": "stdout",
     "output_type": "stream",
     "text": [
      "=== TRAINING vs TEST ACCURACY ===\n",
      "Training Accuracy: 0.9819\n",
      "Test Accuracy: 0.9822\n",
      "Difference: -0.0003\n",
      "✅ Good: similar training and test performance\n"
     ]
    }
   ],
   "source": [
    "# Calculate training accuracy\n",
    "y_train_pred = lr_model.predict(X_train_scaled)\n",
    "train_accuracy = accuracy_score(y_train, y_train_pred)\n",
    "\n",
    "# Calculate test accuracy\n",
    "test_accuracy = accuracy_score(y_test, y_pred)\n",
    "\n",
    "print(\"=== TRAINING vs TEST ACCURACY ===\")\n",
    "print(f\"Training Accuracy: {train_accuracy:.4f}\")\n",
    "print(f\"Test Accuracy: {test_accuracy:.4f}\")\n",
    "print(f\"Difference: {train_accuracy - test_accuracy:.4f}\")\n",
    "\n",
    "if train_accuracy - test_accuracy > 0.05:\n",
    "    print(\"⚠️  Potential overfitting detected (training accuracy significantly higher)\")\n",
    "elif train_accuracy - test_accuracy < -0.05:\n",
    "    print(\"⚠️  Unusual: test accuracy higher than training accuracy\")\n",
    "else:\n",
    "    print(\"✅ Good: similar training and test performance\")"
   ]
  },
  {
   "cell_type": "code",
   "execution_count": 12,
   "metadata": {},
   "outputs": [
    {
     "name": "stdout",
     "output_type": "stream",
     "text": [
      "=== TEST SET PERFORMANCE METRICS ===\n",
      "Accuracy: 0.9822\n",
      "Precision: 0.4375\n",
      "Recall: 0.0013\n",
      "F1 Score: 0.0025\n",
      "Number of False Negatives: 5546\n",
      "\n",
      "=== CONFUSION MATRIX BREAKDOWN ===\n",
      "True Negatives (TN): 306052\n",
      "False Positives (FP): 9\n",
      "False Negatives (FN): 5546\n",
      "True Positives (TP): 7\n"
     ]
    }
   ],
   "source": [
    "# Calculate test metrics\n",
    "test_precision = precision_score(y_test, y_pred)\n",
    "test_recall = recall_score(y_test, y_pred)\n",
    "test_f1 = f1_score(y_test, y_pred)\n",
    "\n",
    "# Confusion matrix\n",
    "cm = confusion_matrix(y_test, y_pred)\n",
    "tn, fp, fn, tp = cm.ravel()\n",
    "\n",
    "print(\"=== TEST SET PERFORMANCE METRICS ===\")\n",
    "print(f\"Accuracy: {test_accuracy:.4f}\")\n",
    "print(f\"Precision: {test_precision:.4f}\")\n",
    "print(f\"Recall: {test_recall:.4f}\")\n",
    "print(f\"F1 Score: {test_f1:.4f}\")\n",
    "print(f\"Number of False Negatives: {fn}\")\n",
    "\n",
    "print(f\"\\n=== CONFUSION MATRIX BREAKDOWN ===\")\n",
    "print(f\"True Negatives (TN): {tn}\")\n",
    "print(f\"False Positives (FP): {fp}\")\n",
    "print(f\"False Negatives (FN): {fn}\")\n",
    "print(f\"True Positives (TP): {tp}\")"
   ]
  },
  {
   "cell_type": "code",
   "execution_count": 13,
   "metadata": {},
   "outputs": [
    {
     "data": {
      "image/png": "[encoded data removed]",
      "text/plain": [
       "<Figure size 800x600 with 2 Axes>"
      ]
     },
     "metadata": {},
     "output_type": "display_data"
    },
    {
     "name": "stdout",
     "output_type": "stream",
     "text": [
      "\n",
      "=== SUMMARY ===\n",
      "Out of 311614 test samples:\n",
      "• Correctly predicted NO sepsis: 306052 (98.2%)\n",
      "• Correctly predicted sepsis: 7 (0.0%)\n",
      "• Incorrectly predicted sepsis (False Positives): 9 (0.0%)\n",
      "• Missed sepsis cases (False Negatives): 5546 (1.8%)\n"
     ]
    }
   ],
   "source": [
    "# Create confusion matrix plot\n",
    "plt.figure(figsize=(8, 6))\n",
    "sns.heatmap(cm, annot=True, fmt='d', cmap='Blues', \n",
    "            xticklabels=['No Sepsis (0)', 'Sepsis (1)'],\n",
    "            yticklabels=['No Sepsis (0)', 'Sepsis (1)'],\n",
    "            cbar_kws={'label': 'Count'})\n",
    "\n",
    "plt.title('Confusion Matrix - Test Set Results', fontsize=14, fontweight='bold')\n",
    "plt.xlabel('Predicted Label', fontsize=12)\n",
    "plt.ylabel('True Label', fontsize=12)\n",
    "\n",
    "# Add percentage annotations\n",
    "total = cm.sum()\n",
    "for i in range(2):\n",
    "    for j in range(2):\n",
    "        percentage = cm[i, j] / total * 100\n",
    "        plt.text(j + 0.5, i + 0.7, f'({percentage:.1f}%)', \n",
    "                ha='center', va='center', fontsize=10, color='red')\n",
    "\n",
    "plt.tight_layout()\n",
    "plt.show()\n",
    "\n",
    "# Print summary\n",
    "print(f\"\\n=== SUMMARY ===\")\n",
    "print(f\"Out of {len(y_test)} test samples:\")\n",
    "print(f\"• Correctly predicted NO sepsis: {tn} ({tn/len(y_test)*100:.1f}%)\")\n",
    "print(f\"• Correctly predicted sepsis: {tp} ({tp/len(y_test)*100:.1f}%)\")\n",
    "print(f\"• Incorrectly predicted sepsis (False Positives): {fp} ({fp/len(y_test)*100:.1f}%)\")\n",
    "print(f\"• Missed sepsis cases (False Negatives): {fn} ({fn/len(y_test)*100:.1f}%)\")"
   ]
  },
  {
   "cell_type": "code",
   "execution_count": 14,
   "metadata": {},
   "outputs": [
    {
     "name": "stdout",
     "output_type": "stream",
     "text": [
      "Loading original training data...\n",
      "Original training data shape: (1240596, 42)\n",
      "Original class distribution:\n",
      "SepsisLabel\n",
      "0    1218233\n",
      "1      22363\n",
      "Name: count, dtype: int64\n",
      "Original sepsis rate: 0.0180\n",
      "\n",
      "Sepsis cases: 22363\n",
      "Non-sepsis cases: 1218233\n",
      "\n",
      "=== TARGET BALANCED DATASET ===\n",
      "Target sepsis cases: 22363 (30%)\n",
      "Target non-sepsis cases: 52180 (70%)\n",
      "Target total cases: 74543\n",
      "\n",
      "Downsampling non-sepsis cases from 1218233 to 52180...\n",
      "\n",
      "=== BALANCED DATASET CREATED ===\n",
      "Balanced data shape: (74543, 42)\n",
      "Balanced class distribution:\n",
      "SepsisLabel\n",
      "0    52180\n",
      "1    22363\n",
      "Name: count, dtype: int64\n",
      "Balanced sepsis rate: 0.3000\n",
      "\n",
      "Final percentages:\n",
      "Sepsis: 30.0%\n",
      "Non-sepsis: 70.0%\n"
     ]
    }
   ],
   "source": [
    "import pandas as pd\n",
    "import numpy as np\n",
    "from sklearn.utils import resample\n",
    "\n",
    "# Load the original training data\n",
    "print(\"Loading original training data...\")\n",
    "train_data = pd.read_csv('physionet_train_fully_imputed.csv')\n",
    "\n",
    "print(f\"Original training data shape: {train_data.shape}\")\n",
    "print(f\"Original class distribution:\")\n",
    "print(train_data['SepsisLabel'].value_counts())\n",
    "print(f\"Original sepsis rate: {train_data['SepsisLabel'].mean():.4f}\")\n",
    "\n",
    "# Separate classes\n",
    "sepsis_cases = train_data[train_data['SepsisLabel'] == 1]\n",
    "non_sepsis_cases = train_data[train_data['SepsisLabel'] == 0]\n",
    "\n",
    "print(f\"\\nSepsis cases: {len(sepsis_cases)}\")\n",
    "print(f\"Non-sepsis cases: {len(non_sepsis_cases)}\")\n",
    "\n",
    "# Calculate target sizes for 70-30 balance\n",
    "# If we want 30% sepsis, then sepsis_count / total = 0.3\n",
    "# So total = sepsis_count / 0.3\n",
    "# And non_sepsis_count = total * 0.7\n",
    "\n",
    "sepsis_count = len(sepsis_cases)\n",
    "target_total = int(sepsis_count / 0.3)\n",
    "target_non_sepsis = int(target_total * 0.7)\n",
    "\n",
    "print(f\"\\n=== TARGET BALANCED DATASET ===\")\n",
    "print(f\"Target sepsis cases: {sepsis_count} (30%)\")\n",
    "print(f\"Target non-sepsis cases: {target_non_sepsis} (70%)\")\n",
    "print(f\"Target total cases: {target_total}\")\n",
    "\n",
    "# Randomly sample non-sepsis cases\n",
    "print(f\"\\nDownsampling non-sepsis cases from {len(non_sepsis_cases)} to {target_non_sepsis}...\")\n",
    "non_sepsis_downsampled = resample(non_sepsis_cases, \n",
    "                                 replace=False,  # No replacement\n",
    "                                 n_samples=target_non_sepsis,\n",
    "                                 random_state=42)\n",
    "\n",
    "# Combine the datasets\n",
    "balanced_train_data = pd.concat([sepsis_cases, non_sepsis_downsampled], ignore_index=True)\n",
    "\n",
    "# Shuffle the combined dataset\n",
    "balanced_train_data = balanced_train_data.sample(frac=1, random_state=42).reset_index(drop=True)\n",
    "\n",
    "print(f\"\\n=== BALANCED DATASET CREATED ===\")\n",
    "print(f\"Balanced data shape: {balanced_train_data.shape}\")\n",
    "print(f\"Balanced class distribution:\")\n",
    "print(balanced_train_data['SepsisLabel'].value_counts())\n",
    "print(f\"Balanced sepsis rate: {balanced_train_data['SepsisLabel'].mean():.4f}\")\n",
    "\n",
    "# Verify the percentages\n",
    "sepsis_percentage = (balanced_train_data['SepsisLabel'].sum() / len(balanced_train_data)) * 100\n",
    "non_sepsis_percentage = 100 - sepsis_percentage\n",
    "\n",
    "print(f\"\\nFinal percentages:\")\n",
    "print(f\"Sepsis: {sepsis_percentage:.1f}%\")\n",
    "print(f\"Non-sepsis: {non_sepsis_percentage:.1f}%\")"
   ]
  },
  {
   "cell_type": "code",
   "execution_count": 15,
   "metadata": {},
   "outputs": [
    {
     "name": "stdout",
     "output_type": "stream",
     "text": [
      "\n",
      "Saving balanced dataset to: physionet_train_balanced_70_30.csv\n",
      "✅ Balanced training dataset saved successfully!\n",
      "Original size: 1,240,596 rows\n",
      "Balanced size: 74,543 rows\n",
      "Reduction: 94.0%\n"
     ]
    }
   ],
   "source": [
    "# Save the balanced dataset to a new CSV file\n",
    "output_filename = 'physionet_train_balanced_70_30.csv'\n",
    "print(f\"\\nSaving balanced dataset to: {output_filename}\")\n",
    "\n",
    "balanced_train_data.to_csv(output_filename, index=False)\n",
    "\n",
    "print(f\"✅ Balanced training dataset saved successfully!\")\n",
    "print(f\"Original size: {len(train_data):,} rows\")\n",
    "print(f\"Balanced size: {len(balanced_train_data):,} rows\")\n",
    "print(f\"Reduction: {((len(train_data) - len(balanced_train_data)) / len(train_data) * 100):.1f}%\")"
   ]
  },
  {
   "cell_type": "code",
   "execution_count": 16,
   "metadata": {},
   "outputs": [
    {
     "name": "stdout",
     "output_type": "stream",
     "text": [
      "\n",
      "=== VERIFYING SAVED FILE ===\n",
      "Loaded file shape: (74543, 42)\n",
      "Class distribution:\n",
      "SepsisLabel\n",
      "0    52180\n",
      "1    22363\n",
      "Name: count, dtype: int64\n",
      "Sepsis rate: 0.3000\n",
      "\n",
      "Columns preserved: 42 out of 42\n",
      "All columns match: True\n",
      "\n",
      "Sample of balanced data:\n",
      "      HR  O2Sat       Temp    SBP    MAP   DBP  Resp  EtCO2  BaseExcess  HCO3  \\\n",
      "0   58.0  100.0  36.670000  139.0   79.0  47.0  12.0   33.0         7.0  19.0   \n",
      "1   77.0  100.0  36.059091  111.0   69.0  46.0  14.0   33.0        -5.0  21.0   \n",
      "2  143.0   67.0  37.900000   90.5   60.5  46.5  34.0   25.0        -3.0  22.0   \n",
      "3   87.0   95.0  37.300000  128.0   77.0  53.0  14.5   33.0        -1.0  34.0   \n",
      "4  108.0   96.0  38.300000  181.5  116.5  81.0  13.0   33.0        21.0  21.0   \n",
      "\n",
      "   ...  Fibrinogen  Platelets    Age  Gender  Unit1  Unit2  HospAdmTime  \\\n",
      "0  ...       188.5      289.0  47.76       0    1.0    0.0        -0.07   \n",
      "1  ...       338.0      228.0  73.97       1    1.0    1.0        -0.02   \n",
      "2  ...       588.0      268.0  31.00       0    1.0    1.0        -0.06   \n",
      "3  ...       464.0      181.0  59.67       0    0.0    1.0       -77.95   \n",
      "4  ...       297.0      257.0  71.00       0    1.0    0.0       -12.42   \n",
      "\n",
      "   ICULOS  SepsisLabel  PatientID  \n",
      "0      42            1    p012900  \n",
      "1      21            0    p007853  \n",
      "2      11            1    p112816  \n",
      "3      43            0    p019093  \n",
      "4      28            0    p101282  \n",
      "\n",
      "[5 rows x 42 columns]\n"
     ]
    }
   ],
   "source": [
    "# Load and verify the saved file\n",
    "print(\"\\n=== VERIFYING SAVED FILE ===\")\n",
    "verify_data = pd.read_csv(output_filename)\n",
    "\n",
    "print(f\"Loaded file shape: {verify_data.shape}\")\n",
    "print(f\"Class distribution:\")\n",
    "print(verify_data['SepsisLabel'].value_counts())\n",
    "print(f\"Sepsis rate: {verify_data['SepsisLabel'].mean():.4f}\")\n",
    "\n",
    "# Check if all columns are preserved\n",
    "print(f\"\\nColumns preserved: {len(verify_data.columns)} out of {len(train_data.columns)}\")\n",
    "print(f\"All columns match: {list(verify_data.columns) == list(train_data.columns)}\")\n",
    "\n",
    "# Show sample of balanced data\n",
    "print(f\"\\nSample of balanced data:\")\n",
    "print(verify_data.head())"
   ]
  },
  {
   "cell_type": "code",
   "execution_count": 17,
   "metadata": {},
   "outputs": [
    {
     "name": "stdout",
     "output_type": "stream",
     "text": [
      "Loading datasets...\n",
      "Balanced training data shape: (74543, 42)\n",
      "Test data shape: (311614, 42)\n",
      "\n",
      "Balanced training data class distribution:\n",
      "SepsisLabel\n",
      "0    52180\n",
      "1    22363\n",
      "Name: count, dtype: int64\n",
      "Balanced training sepsis rate: 0.3000\n",
      "\n",
      "Test data class distribution:\n",
      "SepsisLabel\n",
      "0    306061\n",
      "1      5553\n",
      "Name: count, dtype: int64\n",
      "Test sepsis rate: 0.0178\n"
     ]
    }
   ],
   "source": [
    "# Import necessary libraries\n",
    "import pandas as pd\n",
    "import numpy as np\n",
    "from sklearn.model_selection import train_test_split\n",
    "from sklearn.linear_model import LogisticRegression\n",
    "from sklearn.metrics import (confusion_matrix, accuracy_score, precision_score, \n",
    "                           recall_score, f1_score, classification_report)\n",
    "from sklearn.preprocessing import StandardScaler\n",
    "import matplotlib.pyplot as plt\n",
    "import seaborn as sns\n",
    "import warnings\n",
    "warnings.filterwarnings('ignore')\n",
    "\n",
    "# Load the balanced training dataset and original test dataset\n",
    "print(\"Loading datasets...\")\n",
    "balanced_train_data = pd.read_csv('physionet_train_balanced_70_30.csv')\n",
    "test_data = pd.read_csv('physionet_test_fully_imputed.csv')\n",
    "\n",
    "print(f\"Balanced training data shape: {balanced_train_data.shape}\")\n",
    "print(f\"Test data shape: {test_data.shape}\")\n",
    "\n",
    "print(f\"\\nBalanced training data class distribution:\")\n",
    "print(balanced_train_data['SepsisLabel'].value_counts())\n",
    "print(f\"Balanced training sepsis rate: {balanced_train_data['SepsisLabel'].mean():.4f}\")\n",
    "\n",
    "print(f\"\\nTest data class distribution:\")\n",
    "print(test_data['SepsisLabel'].value_counts())\n",
    "print(f\"Test sepsis rate: {test_data['SepsisLabel'].mean():.4f}\")"
   ]
  },
  {
   "cell_type": "code",
   "execution_count": 18,
   "metadata": {},
   "outputs": [
    {
     "name": "stdout",
     "output_type": "stream",
     "text": [
      "Number of features: 40\n",
      "Balanced training samples: 74543\n",
      "Test samples: 311614\n",
      "Features scaled successfully!\n",
      "\n",
      "Training Logistic Regression model on balanced data...\n",
      "Model training completed!\n"
     ]
    }
   ],
   "source": [
    "# Prepare features and target variables\n",
    "feature_columns = [col for col in balanced_train_data.columns if col not in ['SepsisLabel', 'PatientID']]\n",
    "\n",
    "# Separate features and target for balanced training data\n",
    "X_train_balanced = balanced_train_data[feature_columns]\n",
    "y_train_balanced = balanced_train_data['SepsisLabel']\n",
    "\n",
    "# Separate features and target for test data (original imbalanced)\n",
    "X_test = test_data[feature_columns]\n",
    "y_test = test_data['SepsisLabel']\n",
    "\n",
    "print(f\"Number of features: {len(feature_columns)}\")\n",
    "print(f\"Balanced training samples: {X_train_balanced.shape[0]}\")\n",
    "print(f\"Test samples: {X_test.shape[0]}\")\n",
    "\n",
    "# Scale the features\n",
    "scaler = StandardScaler()\n",
    "X_train_balanced_scaled = scaler.fit_transform(X_train_balanced)\n",
    "X_test_scaled = scaler.transform(X_test)\n",
    "\n",
    "print(\"Features scaled successfully!\")\n",
    "\n",
    "# Train logistic regression model on balanced data\n",
    "print(\"\\nTraining Logistic Regression model on balanced data...\")\n",
    "lr_model_balanced = LogisticRegression(\n",
    "    random_state=42,\n",
    "    max_iter=1000,\n",
    "    solver='liblinear'\n",
    ")\n",
    "\n",
    "lr_model_balanced.fit(X_train_balanced_scaled, y_train_balanced)\n",
    "print(\"Model training completed!\")"
   ]
  },
  {
   "cell_type": "code",
   "execution_count": 19,
   "metadata": {},
   "outputs": [
    {
     "name": "stdout",
     "output_type": "stream",
     "text": [
      "Predictions completed!\n",
      "Training set - Predicted positive cases: 9493\n",
      "Training set - Actual positive cases: 22363\n",
      "Test set - Predicted positive cases: 21055\n",
      "Test set - Actual positive cases: 5553\n"
     ]
    }
   ],
   "source": [
    "# Make predictions\n",
    "y_train_pred = lr_model_balanced.predict(X_train_balanced_scaled)\n",
    "y_test_pred = lr_model_balanced.predict(X_test_scaled)\n",
    "y_test_pred_proba = lr_model_balanced.predict_proba(X_test_scaled)[:, 1]\n",
    "\n",
    "print(\"Predictions completed!\")\n",
    "print(f\"Training set - Predicted positive cases: {sum(y_train_pred)}\")\n",
    "print(f\"Training set - Actual positive cases: {sum(y_train_balanced)}\")\n",
    "print(f\"Test set - Predicted positive cases: {sum(y_test_pred)}\")\n",
    "print(f\"Test set - Actual positive cases: {sum(y_test)}\")"
   ]
  },
  {
   "cell_type": "code",
   "execution_count": 20,
   "metadata": {},
   "outputs": [
    {
     "name": "stdout",
     "output_type": "stream",
     "text": [
      "=== TRAINING vs TEST ACCURACY (BALANCED MODEL) ===\n",
      "Training Accuracy: 0.7572\n",
      "Test Accuracy: 0.9262\n",
      "Difference: -0.1691\n",
      "⚠️  Unusual: test accuracy higher than training accuracy\n"
     ]
    }
   ],
   "source": [
    "# Calculate training and test accuracy\n",
    "train_accuracy = accuracy_score(y_train_balanced, y_train_pred)\n",
    "test_accuracy = accuracy_score(y_test, y_test_pred)\n",
    "\n",
    "print(\"=== TRAINING vs TEST ACCURACY (BALANCED MODEL) ===\")\n",
    "print(f\"Training Accuracy: {train_accuracy:.4f}\")\n",
    "print(f\"Test Accuracy: {test_accuracy:.4f}\")\n",
    "print(f\"Difference: {train_accuracy - test_accuracy:.4f}\")\n",
    "\n",
    "if train_accuracy - test_accuracy > 0.05:\n",
    "    print(\"⚠️  Potential overfitting detected (training accuracy significantly higher)\")\n",
    "elif train_accuracy - test_accuracy < -0.05:\n",
    "    print(\"⚠️  Unusual: test accuracy higher than training accuracy\")\n",
    "else:\n",
    "    print(\"✅ Good: similar training and test performance\")"
   ]
  },
  {
   "cell_type": "code",
   "execution_count": 21,
   "metadata": {},
   "outputs": [
    {
     "name": "stdout",
     "output_type": "stream",
     "text": [
      "\n",
      "=== TEST SET PERFORMANCE METRICS (BALANCED MODEL) ===\n",
      "Accuracy: 0.9262\n",
      "Precision: 0.0859\n",
      "Recall: 0.3256\n",
      "F1 Score: 0.1359\n",
      "Number of False Negatives: 3745\n",
      "\n",
      "=== CONFUSION MATRIX BREAKDOWN ===\n",
      "True Negatives (TN): 286814\n",
      "False Positives (FP): 19247\n",
      "False Negatives (FN): 3745\n",
      "True Positives (TP): 1808\n"
     ]
    }
   ],
   "source": [
    "# Calculate test metrics\n",
    "test_precision = precision_score(y_test, y_test_pred)\n",
    "test_recall = recall_score(y_test, y_test_pred)\n",
    "test_f1 = f1_score(y_test, y_test_pred)\n",
    "\n",
    "# Confusion matrix\n",
    "cm = confusion_matrix(y_test, y_test_pred)\n",
    "tn, fp, fn, tp = cm.ravel()\n",
    "\n",
    "print(\"\\n=== TEST SET PERFORMANCE METRICS (BALANCED MODEL) ===\")\n",
    "print(f\"Accuracy: {test_accuracy:.4f}\")\n",
    "print(f\"Precision: {test_precision:.4f}\")\n",
    "print(f\"Recall: {test_recall:.4f}\")\n",
    "print(f\"F1 Score: {test_f1:.4f}\")\n",
    "print(f\"Number of False Negatives: {fn}\")\n",
    "\n",
    "print(f\"\\n=== CONFUSION MATRIX BREAKDOWN ===\")\n",
    "print(f\"True Negatives (TN): {tn}\")\n",
    "print(f\"False Positives (FP): {fp}\")\n",
    "print(f\"False Negatives (FN): {fn}\")\n",
    "print(f\"True Positives (TP): {tp}\")"
   ]
  },
  {
   "cell_type": "code",
   "execution_count": 22,
   "metadata": {},
   "outputs": [
    {
     "data": {
      "image/png": "[encoded data removed]",
      "text/plain": [
       "<Figure size 1000x800 with 4 Axes>"
      ]
     },
     "metadata": {},
     "output_type": "display_data"
    }
   ],
   "source": [
    "# Create confusion matrix plot\n",
    "plt.figure(figsize=(10, 8))\n",
    "\n",
    "# Main confusion matrix\n",
    "plt.subplot(2, 2, (1, 2))\n",
    "sns.heatmap(cm, annot=True, fmt='d', cmap='Blues', \n",
    "            xticklabels=['No Sepsis (0)', 'Sepsis (1)'],\n",
    "            yticklabels=['No Sepsis (0)', 'Sepsis (1)'],\n",
    "            cbar_kws={'label': 'Count'})\n",
    "\n",
    "plt.title('Confusion Matrix - Balanced Model on Test Set', fontsize=14, fontweight='bold')\n",
    "plt.xlabel('Predicted Label', fontsize=12)\n",
    "plt.ylabel('True Label', fontsize=12)\n",
    "\n",
    "# Add percentage annotations\n",
    "total = cm.sum()\n",
    "for i in range(2):\n",
    "    for j in range(2):\n",
    "        percentage = cm[i, j] / total * 100\n",
    "        plt.text(j + 0.5, i + 0.7, f'({percentage:.1f}%)', \n",
    "                ha='center', va='center', fontsize=10, color='red')\n",
    "\n",
    "# Performance metrics comparison\n",
    "plt.subplot(2, 2, 3)\n",
    "metrics = ['Accuracy', 'Precision', 'Recall', 'F1 Score']\n",
    "scores = [test_accuracy, test_precision, test_recall, test_f1]\n",
    "bars = plt.bar(metrics, scores, color=['skyblue', 'lightgreen', 'salmon', 'gold'])\n",
    "plt.ylim(0, 1)\n",
    "plt.title('Performance Metrics', fontsize=12, fontweight='bold')\n",
    "plt.ylabel('Score')\n",
    "plt.xticks(rotation=45)\n",
    "\n",
    "# Add value labels on bars\n",
    "for bar, score in zip(bars, scores):\n",
    "    plt.text(bar.get_x() + bar.get_width()/2, bar.get_height() + 0.01, \n",
    "             f'{score:.3f}', ha='center', va='bottom')\n",
    "\n",
    "# Training vs Test Accuracy\n",
    "plt.subplot(2, 2, 4)\n",
    "acc_comparison = ['Training', 'Test']\n",
    "acc_scores = [train_accuracy, test_accuracy]\n",
    "bars = plt.bar(acc_comparison, acc_scores, color=['lightcoral', 'lightblue'])\n",
    "plt.ylim(0, 1)\n",
    "plt.title('Training vs Test Accuracy', fontsize=12, fontweight='bold')\n",
    "plt.ylabel('Accuracy Score')\n",
    "\n",
    "# Add value labels\n",
    "for bar, score in zip(bars, acc_scores):\n",
    "    plt.text(bar.get_x() + bar.get_width()/2, bar.get_height() + 0.01, \n",
    "             f'{score:.3f}', ha='center', va='bottom')\n",
    "\n",
    "plt.tight_layout()\n",
    "plt.show()"
   ]
  },
  {
   "cell_type": "code",
   "execution_count": 23,
   "metadata": {},
   "outputs": [
    {
     "name": "stdout",
     "output_type": "stream",
     "text": [
      "=== PERFORMANCE COMPARISON ===\n",
      "Balanced Model Performance on Test Set:\n",
      "• Accuracy: 0.9262\n",
      "• Precision: 0.0859\n",
      "• Recall: 0.3256\n",
      "• F1 Score: 0.1359\n",
      "• False Negatives: 3745\n",
      "\n",
      "=== DETAILED BREAKDOWN ===\n",
      "Out of 311614 test samples:\n",
      "• Correctly identified NO sepsis: 286,814 (92.0%)\n",
      "• Correctly identified sepsis: 1,808 (0.6%)\n",
      "• False alarms (False Positives): 19,247 (6.2%)\n",
      "• Missed sepsis cases (False Negatives): 3,745 (1.2%)\n",
      "\n",
      "=== MEDICAL PERFORMANCE METRICS ===\n",
      "Sensitivity (True Positive Rate): 0.3256\n",
      "Specificity (True Negative Rate): 0.9371\n",
      "Positive Predictive Value (PPV): 0.0859\n",
      "Negative Predictive Value (NPV): 0.9871\n",
      "False Negative Rate: 0.6744\n",
      "False Positive Rate: 0.0629\n",
      "\n",
      "=== SEPSIS DETECTION IMPROVEMENT ===\n",
      "Total sepsis cases in test set: 5553\n",
      "Sepsis cases detected by balanced model: 1808\n",
      "Detection rate: 32.56%\n",
      "This is a HUGE improvement over the previous 0.13% detection rate!\n"
     ]
    }
   ],
   "source": [
    "# Compare with previous unbalanced model results\n",
    "print(\"=== PERFORMANCE COMPARISON ===\")\n",
    "print(\"Balanced Model Performance on Test Set:\")\n",
    "print(f\"• Accuracy: {test_accuracy:.4f}\")\n",
    "print(f\"• Precision: {test_precision:.4f}\")\n",
    "print(f\"• Recall: {test_recall:.4f}\")\n",
    "print(f\"• F1 Score: {test_f1:.4f}\")\n",
    "print(f\"• False Negatives: {fn}\")\n",
    "\n",
    "print(f\"\\n=== DETAILED BREAKDOWN ===\")\n",
    "print(f\"Out of {len(y_test)} test samples:\")\n",
    "print(f\"• Correctly identified NO sepsis: {tn:,} ({tn/len(y_test)*100:.1f}%)\")\n",
    "print(f\"• Correctly identified sepsis: {tp:,} ({tp/len(y_test)*100:.1f}%)\")\n",
    "print(f\"• False alarms (False Positives): {fp:,} ({fp/len(y_test)*100:.1f}%)\")\n",
    "print(f\"• Missed sepsis cases (False Negatives): {fn:,} ({fn/len(y_test)*100:.1f}%)\")\n",
    "\n",
    "# Calculate important medical metrics\n",
    "sensitivity = tp / (tp + fn)  # Same as recall\n",
    "specificity = tn / (tn + fp)\n",
    "ppv = tp / (tp + fp)  # Same as precision\n",
    "npv = tn / (tn + fn)\n",
    "\n",
    "print(f\"\\n=== MEDICAL PERFORMANCE METRICS ===\")\n",
    "print(f\"Sensitivity (True Positive Rate): {sensitivity:.4f}\")\n",
    "print(f\"Specificity (True Negative Rate): {specificity:.4f}\")\n",
    "print(f\"Positive Predictive Value (PPV): {ppv:.4f}\")\n",
    "print(f\"Negative Predictive Value (NPV): {npv:.4f}\")\n",
    "print(f\"False Negative Rate: {fn/(fn+tp):.4f}\")\n",
    "print(f\"False Positive Rate: {fp/(fp+tn):.4f}\")\n",
    "\n",
    "# Show improvement in sepsis detection\n",
    "actual_sepsis_cases = sum(y_test)\n",
    "detected_sepsis_cases = tp\n",
    "print(f\"\\n=== SEPSIS DETECTION IMPROVEMENT ===\")\n",
    "print(f\"Total sepsis cases in test set: {actual_sepsis_cases}\")\n",
    "print(f\"Sepsis cases detected by balanced model: {detected_sepsis_cases}\")\n",
    "print(f\"Detection rate: {detected_sepsis_cases/actual_sepsis_cases*100:.2f}%\")\n",
    "print(f\"This is a HUGE improvement over the previous 0.13% detection rate!\")"
   ]
  }
 ],
 "metadata": {
  "kernelspec": {
   "display_name": "base",
   "language": "python",
   "name": "python3"
  },
  "language_info": {
   "codemirror_mode": {
    "name": "ipython",
    "version": 3
   },
   "file_extension": ".py",
   "mimetype": "text/x-python",
   "name": "python",
   "nbconvert_exporter": "python",
   "pygments_lexer": "ipython3",
   "version": "3.12.7"
  }
 },
 "nbformat": 4,
 "nbformat_minor": 2
}
